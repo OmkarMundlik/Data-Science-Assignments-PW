{
 "cells": [
  {
   "attachments": {},
   "cell_type": "markdown",
   "metadata": {},
   "source": [
    "# Q1. What is Abstraction in OOps? Explain with an example.\n",
    "    Abstraction is a process of hiding complexity by internal details of program from user and showing only essential details.\n",
    "    Abstraction provides a programmer to hide all the irrelevant data/process of an application in order to reduce complexity and increase the efficiency of the program.\n",
    "    User is familiar with that \"what function does\" but they don't know \"how it does.\"\n",
    "   \n",
    "    For example, consider a class Car. A Car has certain properties such as make, model, and year, as well as certain behaviors such as starting the engine, accelerating, and braking. The user of the Car class does not need to know the implementation details of how the engine starts or how the car accelerates. All they need to know is that they can call the methods start_engine(), accelerate(), and brake() on a Car object and it will perform the desired action. This is an example of abstraction, as the user only sees the necessary information to use the Car class, while the implementation details are hidden.\n",
    "\n"
   ]
  },
  {
   "attachments": {},
   "cell_type": "markdown",
   "metadata": {},
   "source": [
    "# Q2. Differentiate between Abstraction and Encapsulation. Explain with an example.\n",
    "    Abstraction and encapsulation are two fundamental concepts in object-oriented programming (OOP) and are often used together. While both concepts are used to improve the modularity and maintainability of code, they serve different purposes.\n",
    "\n",
    "    Abstraction is the process of hiding the implementation details of a class and showing only essential information to the outside world. For ex. in the case of a Car class, abstraction is used to only show the methods start_engine(), accelerate(), and brake() and hide the implementation details of how the engine starts or how the car accelerates.\n",
    "\n",
    "    Encapsulation, on the other side, is the process of wrapping data and methods of a class into a single unit. It helps t protect the data from being directly accessed and modified by external code, which can help prevent unintended behaviour. For example, in the case of a Car class, encapsulation is used to ensure that the properties such as make, model, and year can only be accessed or modified through the class's methods, rather than being directly accessed by external code.\n",
    "    To summarize, abstraction is about hiding the implementation details and showing only what is essential, while encapsulation is about wrapping the data and methods of a class into a single unit to protect them from external access.\n"
   ]
  },
  {
   "attachments": {},
   "cell_type": "markdown",
   "metadata": {},
   "source": [
    "# Q3. What is abc module in python? Why is it used?\n",
    "    The abc (Abstract Base Class) module in Python is a module that provides support for defining abstract base classes. An abstract base class is a class that cannot be instantiated but is meant to be subclassed by other classes that can be instantiated.\n",
    "\n",
    "    Abstract base classes are used to define a common interface for a set of subclasses. They allow you to define a common set of methods and properties that must be implemented by the subclasses. This can be useful for enforcing a common API for a group of related classes, or for providing a way to check if an object belongs to a particular class hierarchy.\n",
    "\n",
    "    For example, you could define an abstract base class Shape that defines a common interface for all shapes, such as a perimeter method and an area method. Then you could define subclasses such as Rectangle, Circle, and Triangle that each implement their own version of the perimeter and area methods.\n",
    "\n",
    "    The abc module provides the ABC class, which is used as a base class for defining abstract base classes. To define an abstract base class, you simply subclass ABC and use the @abstractmethod decorator to indicate which methods are abstract and must be implemented by the subclasses.\n",
    "\n",
    "    The use of abstract base classes can help enforce a consistent API for a group of related classes and make it easier to detect when a subclass has not properly implemented all of the required methods.\n",
    "\n"
   ]
  },
  {
   "attachments": {},
   "cell_type": "markdown",
   "metadata": {},
   "source": [
    "# Q4. How can we achieve data abstraction?\n",
    "    We can achieve data abstraction in oops by following ways:\n",
    "    1. Abstract classes:\n",
    "        An abstract class is a class that cannot be instantiated, but is meant to be subclassed. An abstract class provides a common interface that must be implemented by its subclasses.\n",
    "    2. Interfaces:\n",
    "        An interface is a blueprint for classes that defines a set of methods and properties. Classes that implement an interface must implement all of the methods and properties defined in the interface.\n",
    "    3. Encapsulation :\n",
    "        A process of binding data and methods of a class together in a single unit.\n",
    "    4. Getters and Setters:\n",
    "        Getters and setters are special methods that provide a way to access and modify the data within an object. The getter method returns the value of a property, while the setter method sets the value of a property. This allows you to control how the data is accessed and modified, and can help enforce constraints or perform additional operations when the data is being accessed or modified.\n",
    "\n",
    "    By using these techniques, you can achieve data abstraction and control the way in which data is accessed and modified, making your code more maintainable and less prone to errors.\n"
   ]
  },
  {
   "attachments": {},
   "cell_type": "markdown",
   "metadata": {},
   "source": [
    "# Q5. Can we create an instance of an abstract class? Explain your answer.\n",
    "    No, you cannot create an instance of an abstract class. An abstract class is a class that is meant to be subclassed and not instantiated directly. It provides a common interface and defines methods that must be implemented by its subclasses."
   ]
  }
 ],
 "metadata": {
  "kernelspec": {
   "display_name": "Python 3",
   "language": "python",
   "name": "python3"
  },
  "language_info": {
   "codemirror_mode": {
    "name": "ipython",
    "version": 3
   },
   "file_extension": ".py",
   "mimetype": "text/x-python",
   "name": "python",
   "nbconvert_exporter": "python",
   "pygments_lexer": "ipython3",
   "version": "3.10.7"
  },
  "orig_nbformat": 4,
  "vscode": {
   "interpreter": {
    "hash": "63963b3f4c440940f0b94a3100916033a226cb4f45979123153792d60aa56d6a"
   }
  }
 },
 "nbformat": 4,
 "nbformat_minor": 2
}
