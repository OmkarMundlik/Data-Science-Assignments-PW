{
 "cells": [
  {
   "attachments": {},
   "cell_type": "markdown",
   "metadata": {},
   "source": [
    "# Q1. What is a exception in python? Write the difference between Exceptions and syntax errors.\n",
    "    When in the runtime an error that occurs after passing the syntax test is called exception or logical type. For example, when we divide any number by zero then the ZeroDivisionError exception is raised, or when we import a module that does not exist then ImportError is raised.\n",
    "    But when the proper syntax of the language is not followed then a syntax error is thrown.\n",
    "    Following code will raise an exception.\n"
   ]
  },
  {
   "cell_type": "code",
   "execution_count": 4,
   "metadata": {},
   "outputs": [
    {
     "ename": "ZeroDivisionError",
     "evalue": "division by zero",
     "output_type": "error",
     "traceback": [
      "\u001b[1;31m---------------------------------------------------------------------------\u001b[0m",
      "\u001b[1;31mZeroDivisionError\u001b[0m                         Traceback (most recent call last)",
      "Cell \u001b[1;32mIn[4], line 4\u001b[0m\n\u001b[0;32m      1\u001b[0m \u001b[39mdef\u001b[39;00m \u001b[39mdivision\u001b[39m(a, b):\n\u001b[0;32m      2\u001b[0m     \u001b[39mreturn\u001b[39;00m a\u001b[39m/\u001b[39mb\n\u001b[1;32m----> 4\u001b[0m \u001b[39mprint\u001b[39m(division(\u001b[39m1\u001b[39;49m, \u001b[39m0\u001b[39;49m))\n",
      "Cell \u001b[1;32mIn[4], line 2\u001b[0m, in \u001b[0;36mdivision\u001b[1;34m(a, b)\u001b[0m\n\u001b[0;32m      1\u001b[0m \u001b[39mdef\u001b[39;00m \u001b[39mdivision\u001b[39m(a, b):\n\u001b[1;32m----> 2\u001b[0m     \u001b[39mreturn\u001b[39;00m a\u001b[39m/\u001b[39;49mb\n",
      "\u001b[1;31mZeroDivisionError\u001b[0m: division by zero"
     ]
    }
   ],
   "source": [
    "def division(a, b):\n",
    "    return a/b\n",
    "\n",
    "print(division(1, 0))"
   ]
  },
  {
   "attachments": {},
   "cell_type": "markdown",
   "metadata": {},
   "source": [
    "Following code will throw syntax error."
   ]
  },
  {
   "cell_type": "code",
   "execution_count": null,
   "metadata": {},
   "outputs": [
    {
     "ename": "SyntaxError",
     "evalue": "expected ':' (3208434746.py, line 2)",
     "output_type": "error",
     "traceback": [
      "\u001b[1;36m  Cell \u001b[1;32mIn[2], line 2\u001b[1;36m\u001b[0m\n\u001b[1;33m    if age < 100\u001b[0m\n\u001b[1;37m                ^\u001b[0m\n\u001b[1;31mSyntaxError\u001b[0m\u001b[1;31m:\u001b[0m expected ':'\n"
     ]
    }
   ],
   "source": [
    "age = 90\n",
    "if age < 100\n",
    "    print(\"You are still young man!! Trsut me\")"
   ]
  },
  {
   "attachments": {},
   "cell_type": "markdown",
   "metadata": {},
   "source": [
    "The main difference between an exception and a syntax error is that syntax errors are errors in the syntax of your program, while exceptions are errors that occur during the execution of your program. Syntax errors are detected when you try to run your program, before it starts executing. In contrast, exceptions are raised during the execution of the program, after it starts running."
   ]
  },
  {
   "attachments": {},
   "cell_type": "markdown",
   "metadata": {},
   "source": [
    "# Q2.What happens when an exception is not handelled?Explain with an example.\n",
    "    When there is an exceoption in the code which is not handelled then the remaining program will not get executed. Program will terminate where it throughs exception. But if we handle that exception by using try-except block then program will not get terminated even if there is some error.\n",
    "    For ex. If we divide a number by zero without keeping it inside a try-except block, it will through ZeroDivisionError as a number cannot be divided by zero."
   ]
  },
  {
   "cell_type": "code",
   "execution_count": null,
   "metadata": {},
   "outputs": [
    {
     "ename": "ZeroDivisionError",
     "evalue": "division by zero",
     "output_type": "error",
     "traceback": [
      "\u001b[1;31m---------------------------------------------------------------------------\u001b[0m",
      "\u001b[1;31mZeroDivisionError\u001b[0m                         Traceback (most recent call last)",
      "Cell \u001b[1;32mIn[3], line 4\u001b[0m\n\u001b[0;32m      1\u001b[0m \u001b[39mdef\u001b[39;00m \u001b[39mDivision\u001b[39m (a, b) :\n\u001b[0;32m      2\u001b[0m     \u001b[39mreturn\u001b[39;00m a\u001b[39m/\u001b[39mb\n\u001b[1;32m----> 4\u001b[0m b \u001b[39m=\u001b[39m Division(\u001b[39m100\u001b[39;49m, \u001b[39m0\u001b[39;49m)\n\u001b[0;32m      5\u001b[0m \u001b[39mprint\u001b[39m(\u001b[39m\"\u001b[39m\u001b[39mDivision is : \u001b[39m\u001b[39m\"\u001b[39m)\n\u001b[0;32m      6\u001b[0m \u001b[39mprint\u001b[39m(b)\n",
      "Cell \u001b[1;32mIn[3], line 2\u001b[0m, in \u001b[0;36mDivision\u001b[1;34m(a, b)\u001b[0m\n\u001b[0;32m      1\u001b[0m \u001b[39mdef\u001b[39;00m \u001b[39mDivision\u001b[39m (a, b) :\n\u001b[1;32m----> 2\u001b[0m     \u001b[39mreturn\u001b[39;00m a\u001b[39m/\u001b[39;49mb\n",
      "\u001b[1;31mZeroDivisionError\u001b[0m: division by zero"
     ]
    }
   ],
   "source": [
    "def Division (a, b) :\n",
    "    return a/b\n",
    "\n",
    "b = Division(100, 0)\n",
    "print(\"Division is : \")\n",
    "print(b)"
   ]
  },
  {
   "attachments": {},
   "cell_type": "markdown",
   "metadata": {},
   "source": [
    "# Q3. Which python statements are used to catch and handle exceptions? Explain with example.\n",
    "\n",
    "    In Python, to catch and handle exceptions, you can use a try-except block. The try statement encloses the code that might raise an exception, and the except statement specifies the block of code that will handle the exception if it is raised.\n",
    "\n",
    "    try block contains the code in which there is a possibility of getting a error in run time. If there occurs some error in try block then except block gets executed. If there is no error, then except block doesn't gets executed and else block is g=executed. Finally is a block which always gets executed whether there is a error or not.\n"
   ]
  },
  {
   "attachments": {},
   "cell_type": "markdown",
   "metadata": {},
   "source": [
    "Following program illustates the an example of handelling exceptions."
   ]
  },
  {
   "cell_type": "code",
   "execution_count": null,
   "metadata": {},
   "outputs": [
    {
     "name": "stdout",
     "output_type": "stream",
     "text": [
      "Input :  5 0\n",
      "Exception occured :  division by zero\n"
     ]
    }
   ],
   "source": [
    "import logging\n",
    "logging.basicConfig(filename=\"ass.log\", level=logging.DEBUG, format=\"%(asctime)s %(levelname)s %(message)s\")\n",
    "try :\n",
    "    p, q = [int(i) for i in input(\"Enter two numbers :\").split(\" \")]\n",
    "    print(\"Input : \", p, q)\n",
    "    division\n",
    "except Exception as e:\n",
    "    logging.info(e)\n",
    "    print(\"Exception occured : \", e)\n",
    "\n",
    "else :\n",
    "    print(\"division : \", division)\n",
    "    logging.info(\"Try successfully executed. Then it skipped except block and executed else block.\")\n",
    "    print(\"I am else block. Try successfully executed. Then it skipped except block and executed else block.\")\n",
    "\n",
    "finally :\n",
    "    logging.info(\"Finally block always gets executed. Whether there is a error or not.\")\n",
    "    \n"
   ]
  },
  {
   "attachments": {},
   "cell_type": "markdown",
   "metadata": {},
   "source": [
    "In this example, user enters two numbers, program divides first number by second number and returns the division. But f the second number is zero, then it raise an exception.thats why we used try0except block there."
   ]
  },
  {
   "attachments": {},
   "cell_type": "markdown",
   "metadata": {},
   "source": [
    "# Q4. Explain with an example:\n",
    "    Try and else:\n",
    "    try-except blocks are used for handelling exceptions in the program. We can also use else statement with them. When there is a error in the code in the try block, then the except block is executed, but if there is no error in the try block, then it skips the except block and executes the else block.\n",
    "\n",
    "    Following is an example of try-else block."
   ]
  },
  {
   "cell_type": "code",
   "execution_count": null,
   "metadata": {},
   "outputs": [
    {
     "name": "stdout",
     "output_type": "stream",
     "text": [
      "Else block executed when try block successfully executed.\n"
     ]
    }
   ],
   "source": [
    "try: \n",
    "    division = 10/2\n",
    "except Exception as e:\n",
    "    print(e)\n",
    "\n",
    "else:\n",
    "    print(\"Else block executed when try block successfully executed.\")\n"
   ]
  },
  {
   "attachments": {},
   "cell_type": "markdown",
   "metadata": {},
   "source": [
    "finally: \n",
    "    finally block is a block which always gets executed."
   ]
  },
  {
   "cell_type": "code",
   "execution_count": null,
   "metadata": {},
   "outputs": [
    {
     "name": "stdout",
     "output_type": "stream",
     "text": [
      "division by zero\n",
      "finally always gets executed.\n"
     ]
    }
   ],
   "source": [
    "try :\n",
    "    division = 10/0\n",
    "except Exception as e:\n",
    "    print(e)\n",
    "finally:\n",
    "    print(\"finally always gets executed.\")"
   ]
  },
  {
   "cell_type": "code",
   "execution_count": null,
   "metadata": {},
   "outputs": [
    {
     "name": "stdout",
     "output_type": "stream",
     "text": [
      "finally always gets executed.\n"
     ]
    }
   ],
   "source": [
    "try :\n",
    "    division = 10/2\n",
    "except Exception as e:\n",
    "    print(e)\n",
    "finally:\n",
    "    print(\"finally always gets executed.\")"
   ]
  },
  {
   "attachments": {},
   "cell_type": "markdown",
   "metadata": {},
   "source": [
    "raise keyword is used for raising custom/ userdefined exceptions."
   ]
  },
  {
   "cell_type": "code",
   "execution_count": 11,
   "metadata": {},
   "outputs": [
    {
     "name": "stdout",
     "output_type": "stream",
     "text": [
      "Input :  omk123\n",
      "numstring must be numeric\n"
     ]
    }
   ],
   "source": [
    "class checkNum(Exception):\n",
    "\n",
    "    def __init__(self, s):\n",
    "        self.s = s\n",
    "\n",
    "def CheckNum(s):\n",
    "    if not(s.isnumeric()):\n",
    "        raise checkNum(\"numstring must be numeric\")\n",
    "\n",
    "try :\n",
    "    n = input()\n",
    "    print(\"Input : \", n)\n",
    "    CheckNum(n)\n",
    "except checkNum as e:\n",
    "    print(e)"
   ]
  },
  {
   "attachments": {},
   "cell_type": "markdown",
   "metadata": {},
   "source": [
    "# Q5. What are the custom exceptions in python? Why do we need custom exceptions? Explain with an example.\n",
    "    In Python, you can create your own custom exceptions by defining a new class that inherits from the built-in Exception class. Custom exceptions are useful when you want to handle specific errors or situations that are not covered by the standard built-in exceptions.\n",
    "    In the below example, we created an insufficientBalanceError exceptino to handle situations where user tries to withdraw the amount more than the balance in his amount. In such like senarios, we use custome exceptions."
   ]
  },
  {
   "cell_type": "code",
   "execution_count": 12,
   "metadata": {},
   "outputs": [
    {
     "name": "stdout",
     "output_type": "stream",
     "text": [
      "Insufficient balance.\n"
     ]
    }
   ],
   "source": [
    "class insufficientBalanceError(Exception) :\n",
    "    def __init__(self, msg):\n",
    "        self.msg = msg\n",
    "\n",
    "def withdraw(balance, amount):\n",
    "    if(amount > balance) :\n",
    "        raise insufficientBalanceError(\"Insufficient balance.\")\n",
    "        return balance,False\n",
    "    else:\n",
    "        balance -= amount\n",
    "        return balance,True\n",
    "    \n",
    "try :\n",
    "    balance = 1000\n",
    "    amount = 100000\n",
    "    balance, status = withdraw(balance, amount)\n",
    "except insufficientBalanceError as e:\n",
    "    print(e)"
   ]
  },
  {
   "attachments": {},
   "cell_type": "markdown",
   "metadata": {},
   "source": [
    "# Q6. Create a custom exception class, Use this class to handle an exception."
   ]
  },
  {
   "cell_type": "code",
   "execution_count": null,
   "metadata": {},
   "outputs": [],
   "source": [
    "class insufficientBalanceError(Exception) :\n",
    "    def __init__(self, msg):\n",
    "        self.msg = msg\n",
    "\n",
    "def withdraw(balance, amount):\n",
    "    if(amount > balance) :\n",
    "        raise insufficientBalanceError(\"Insufficient balance.\")\n",
    "        return balance,False\n",
    "    else:\n",
    "        balance -= amount\n",
    "        return balance,True\n",
    "    \n",
    "try :\n",
    "    balance = 1000\n",
    "    amount = 100000\n",
    "    balance, status = withdraw(balance, amount)\n",
    "except insufficientBalanceError as e:\n",
    "    print(e)"
   ]
  }
 ],
 "metadata": {
  "kernelspec": {
   "display_name": "Python 3",
   "language": "python",
   "name": "python3"
  },
  "language_info": {
   "codemirror_mode": {
    "name": "ipython",
    "version": 3
   },
   "file_extension": ".py",
   "mimetype": "text/x-python",
   "name": "python",
   "nbconvert_exporter": "python",
   "pygments_lexer": "ipython3",
   "version": "3.10.7"
  },
  "orig_nbformat": 4,
  "vscode": {
   "interpreter": {
    "hash": "63963b3f4c440940f0b94a3100916033a226cb4f45979123153792d60aa56d6a"
   }
  }
 },
 "nbformat": 4,
 "nbformat_minor": 2
}
