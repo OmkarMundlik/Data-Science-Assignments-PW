{
 "cells": [
  {
   "attachments": {},
   "cell_type": "markdown",
   "metadata": {},
   "source": [
    "# Q1. What is Statistics?\n",
    "    Statistics is the science of collecting, organising and analysing the data."
   ]
  },
  {
   "attachments": {},
   "cell_type": "markdown",
   "metadata": {},
   "source": [
    "# Q2. Define the different types of statistics and give an example of when each type might be used.\n",
    "\n",
    "There are two main types of statistics. \n",
    "1. Descriptive Statistics: \n",
    "    It consists of organizing and collecting the data.\n",
    "    Provides descriptions about the data. \n",
    "    They can be used for analyzing the data. We can use this of statistics to summarise the data.\n",
    "    They can be used to provide an overview of data and to identify patterns and trends.\n",
    "\n",
    "    For e.g.Let us say you have to find the average height of students in a class. You might use Measures of central tendency like mean, median, mode for finding that.\n",
    "\n",
    "2. Inferential Statistics:\n",
    "    It is used for making predictions or conclusions based on a sample of Data.\n",
    "    Let us say i have a data of feedback of different dishes in a restaurant and i have to decide which is the special or most liked dish in my restaurant. This can be done by using inferential statistics.\n",
    "    "
   ]
  },
  {
   "attachments": {},
   "cell_type": "markdown",
   "metadata": {},
   "source": [
    "# Q3. What are the different types of data and how do they differ from each other? Provide an example of each type of data.\n",
    "Data means facts or pieces of information.\n",
    "Data can be of two types.\n",
    "1. Quantitative Data:\n",
    "    It is a type of numerical data which can be further clasified into two categories.\n",
    "    1. Discrete:\n",
    "    It consists of whole numbers.\n",
    "    For.eg., No. of childs a couple has\n",
    "    No. of subjects in a semester\n",
    "\n",
    "    2. Continuous:\n",
    "    It can contain any value.\n",
    "    For e.g., Heights of students in a class\n",
    "    Weight etc.\n",
    "\n",
    "2. Qualitative Data:\n",
    "    It is a type of categorical Data which can again classified into two categories.\n",
    "    1. Nominal:\n",
    "        Order of data doesnt matter.\n",
    "        Categories are not comparable.\n",
    "        Categories are not ranked.\n",
    "        For e.g.,\n",
    "        Data of favourite subject of students in a class\n",
    "    2. Ordinal:\n",
    "        Consists of ranked Categories like ratings of apps as 1*, 2* , 3* etc.\n",
    "        Feedback as good, bad, excellent, ok etc."
   ]
  },
  {
   "attachments": {},
   "cell_type": "markdown",
   "metadata": {},
   "source": [
    "# Q4. Categorise the following datasets with respect to quantitative and qualitative data types:\n",
    "(i) Grading in exam: A+, A, B+, B, C+, C, D, E\n",
    "\n",
    "=> Qualitative Data (ordinal)\n",
    "\n",
    "(ii) Colour of mangoes: yellow, green, orange, red\n",
    "\n",
    "=> Qualitative (Nominal)\n",
    "\n",
    "(iii) Height data of a class: [178.9, 179, 179.5, 176, 177.2, 178.3, 175.8,...]\n",
    "\n",
    "=> Quantitative (Continuous)\n",
    "\n",
    "(iv) Number of mangoes exported by a farm: [500, 600, 478, 672, ...]\n",
    "\n",
    "=> Quantitative (discrete)\n"
   ]
  },
  {
   "attachments": {},
   "cell_type": "markdown",
   "metadata": {},
   "source": [
    "# Q5. Explain the concept of levels of measurement and give an example of a variable for each level.\n",
    "\n",
    "Levels of measurements also known as levels of measurement.\n",
    "It consists of different ways in which variables can be classfied. There are four scales of measurement.\n",
    "\n",
    "1. Nominal scale:\n",
    "    contains nominal categorical data.\n",
    "    e.g. Gender(male or female)\n",
    "    marital information (Married, single, divorced).\n",
    "\n",
    "2. Ordinal Scale:\n",
    "    contains ordinal categorical data.\n",
    "    Categories are ranked.\n",
    "    e.g., Feedback => Very Good, Good, bad, very bad.\n",
    "    Ratings => 1*, 2*, 3*, 4*, 5*\n",
    "\n",
    "3. Interval Scale:\n",
    "    Numerical data wth equal intervals in between them.\n",
    "    No true zero Point.\n",
    "    Meaningful ratios between values cannot be calculated.\n",
    "\n",
    "    e.g., Temperature in celcius or fehrenheit.\n",
    "    Calender dates\n",
    "\n",
    "4. Ratio scale:\n",
    "\n",
    "    Numerical data.\n",
    "    differences are measurableincluding ratios.\n",
    "    contains a zero starting point.\n",
    "\n",
    "    e.g., Scores of students in maths.\n",
    "\n",
    "\n"
   ]
  },
  {
   "attachments": {},
   "cell_type": "markdown",
   "metadata": {},
   "source": [
    "# Q6. Why is it important to understand the level of measurement when analyzing data? Provide an example to illustrate your answer.\n",
    "\n",
    "It is important because we should get the actual meaning and insights of the data before comparing them. \n",
    "\n",
    "We should understand the datatypes of different columns in a data.\n",
    "\n",
    "Suppose we have to find the average of a data, then if the data is interval scale data or ratio scale data, we can find its mean. But if data is categorical then we cannot find its mean. We should apply different techniques.\n",
    "\n",
    "Therefore, understanding the level of measurement is crucial when analyzing data to ensure that appropriate statistical methods are used and accurate conclusions are drawn from the results.\n",
    "\n",
    "\n"
   ]
  },
  {
   "attachments": {},
   "cell_type": "markdown",
   "metadata": {},
   "source": [
    "# Q7. How nominal data type is different from ordinal data type.\n",
    "\n",
    "Nominal data doesnt contain any order where as ordinal data is ordered i.e. ranked.\n",
    "\n",
    "In nominal data, Categories are mutually uncomparable where as in ordinal, categories can be compared.\n",
    "\n",
    "e.g gender i.e. Male or female, We cannot compare male or female. But in ordinal data, e.g. feedback which can be good, bad, very good, very bad. We can compare this categories.\n",
    "\n",
    "In summary, the main difference between nominal and ordinal data is that nominal data is unordered and has no quantitative value, while ordinal data is ordered and has a relative ranking."
   ]
  },
  {
   "attachments": {},
   "cell_type": "markdown",
   "metadata": {},
   "source": [
    "# Q8. Which type of plot can be used to display data in terms of range?\n",
    "\n",
    "A box plot, also known as a box and whisker plot, is a commonly used plot to display data in terms of range. Box plots display the distribution of a set of data by showing the median, quartiles, and outliers.\n",
    "\n",
    "The box in the plot represents the middle 50% of the data, with the median value shown as a line in the box. The lower and upper quartiles are shown as the bottom and top of the box, respectively. The whiskers extend from the box to show the range of the data, and any values outside of the whiskers are considered outliers.\n",
    "\n",
    "Box plots are useful for comparing distributions of multiple groups or variables, as well as for identifying any unusual or extreme values in the data. They can also help to visualize differences in the spread of the data between groups or variables."
   ]
  },
  {
   "attachments": {},
   "cell_type": "markdown",
   "metadata": {},
   "source": [
    "# Q9. Describe the difference between descriptive and inferential statistics. Give an example of each type of statistics and explain how they are used.\n",
    "\n",
    "1. Descriptive Statistics: \n",
    "    It consists of organizing and collecting the data.\n",
    "    Provides descriptions about the data. \n",
    "    They can be used for analyzing the data. We can use this of statistics to summarise the data.\n",
    "    They can be used to provide an overview of data and to identify patterns and trends.\n",
    "\n",
    "    For e.g.Let us say you have to find the average height of students in a class. You might use Measures of central tendency like mean, median, mode for finding that.\n",
    "\n",
    "2. Inferential Statistics:\n",
    "    It is used for making predictions or conclusions based on a sample of Data.\n",
    "    Let us say i have a data of feedback of different dishes in a restaurant and i have to decide which is the special or most liked dish in my restaurant. This can be done by using inferential statistics.\n"
   ]
  },
  {
   "attachments": {},
   "cell_type": "markdown",
   "metadata": {},
   "source": [
    "# Q10. What are some common measures of central tendency and variability used in statistics? Explain how each measure can be used to describe a dataset.\n",
    "\n",
    "Measures of Central Tendency:\n",
    "\n",
    "Mean: The mean is the average value of a dataset, obtained by adding up all the values and dividing by the number of observations. The mean is sensitive to extreme values and can be affected by outliers, so it is best used when the data is normally distributed or symmetric.\n",
    "\n",
    "Median: The median is the middle value of a dataset, with half of the observations above it and half below it. The median is more robust than the mean and is less affected by outliers or skewed data. It is a good measure of central tendency when the data is skewed or has extreme values.\n",
    "\n",
    "Mode: The mode is the value that appears most frequently in a dataset. The mode is useful for identifying the most common value in the data, and can be used with any type of data, including nominal data.\n",
    "\n",
    "Measures of Variability:\n",
    "\n",
    "Range: The range is the difference between the highest and lowest values in a dataset. The range is useful for identifying the spread of the data and for detecting outliers. However, the range is affected by extreme values and may not accurately reflect the variability of the data.\n",
    "\n",
    "Variance: The variance measures how spread out the data is from the mean. It is calculated by taking the sum of the squared differences between each value and the mean, and dividing by the number of observations minus one. The variance is useful for quantifying the variability of the data and for comparing the variability between groups or variables.\n",
    "\n",
    "Standard Deviation: The standard deviation is the square root of the variance and is a more commonly used measure of variability. It measures the spread of the data in relation to the mean, and is used to describe the typical distance of the observations from the mean. A smaller standard deviation indicates that the data is tightly clustered around the mean, while a larger standard deviation indicates that the data is more spread out."
   ]
  }
 ],
 "metadata": {
  "language_info": {
   "name": "python"
  },
  "orig_nbformat": 4
 },
 "nbformat": 4,
 "nbformat_minor": 2
}
