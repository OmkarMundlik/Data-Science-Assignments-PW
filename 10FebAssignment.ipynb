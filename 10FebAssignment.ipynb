{
 "cells": [
  {
   "attachments": {},
   "cell_type": "markdown",
   "metadata": {},
   "source": [
    "# Q1. Which function is used to open a file? What are the different modes of opening a file? Explain each mode of file opening.\n",
    "    In Python, the open() function is used to open a file. The syntax for using the open() function is:\n",
    "\n",
    "    Function takes two arguments, file name and the mode in which we have to append file.\n",
    "    Syntax: \n",
    "    file_object = open(file_name, mode)\n",
    "\n",
    "    The different modes of opening a file in Python are:\n",
    "\n",
    "    'r' (Read Only): This is the default mode. It opens the file for reading only. If the file does not exist, it raises a FileNotFoundError exception.\n",
    "\n",
    "    'w' (Write Only): This mode opens the file for writing only. If the file already exists, its contents are truncated (deleted). If the file does not exist, a new file is created.\n",
    "\n",
    "    'a' (Append Only): This mode opens the file for writing only, but the pointer is placed at the end of the file, so any data written to the file is appended to its end. If the file does not exist, a new file is created.\n",
    "\n",
    "    'x' (Exclusive Creation): This mode opens the file for writing only, but only if the file does not already exist. If the file already exists, it raises a FileExistsError exception.\n",
    "\n",
    "    'b' (Binary Mode): This mode can be combined with the other modes to open the file in binary mode. In binary mode, the file is read and written in binary format, rather than text format.\n",
    "\n",
    "    '+' (Read and Write): This mode can be combined with the other modes to open the file for both reading and writing. For example, 'r+' opens the file for both reading and writing."
   ]
  },
  {
   "cell_type": "code",
   "execution_count": 7,
   "metadata": {},
   "outputs": [
    {
     "data": {
      "text/plain": [
       "'Omkar Mundlik'"
      ]
     },
     "execution_count": 7,
     "metadata": {},
     "output_type": "execute_result"
    }
   ],
   "source": [
    "a = open(file=\"../omkar.txt\",mode= \"r\")\n",
    "a.read()"
   ]
  },
  {
   "attachments": {},
   "cell_type": "markdown",
   "metadata": {},
   "source": [
    "# Q2. Why close() function is used? Why is it important to close a file?\n",
    "\n",
    "    The close() function is used to close a file in Python. When a file is opened, the operating system reserves some resources, such as memory and system resources, for the file. It's important to close the file when we are done working with it so that the resources that were reserved for the file can be released.\n",
    "\n",
    "    By closing the file, we also ensure that the contents of the file are saved properly. When we write to a file, the data is not always immediately written to disk. Instead, it's temporarily stored in a buffer, and only written to disk when the buffer is flushed. Closing the file flushes the buffer and writes any remaining data to disk, which makes sure that the contents of the file are saved properly.\n",
    "    Additionally, when we open a file and don't close it, the file remains open until the program terminates or the file object is destroyed. This can cause problems, such as:\n",
    "\n",
    "    Exhausting the limit on the number of open files, which can lead to a TooManyFilesError exception.\n",
    "\n",
    "    Locking the file, which can prevent other programs from accessing the file.\n",
    "\n",
    "    For these reasons, it's a good practice to close a file after we're done working with it.\n",
    "\n",
    "    We can close a file by using the close() method on the file object, like this:"
   ]
  },
  {
   "cell_type": "code",
   "execution_count": 9,
   "metadata": {},
   "outputs": [
    {
     "name": "stdout",
     "output_type": "stream",
     "text": [
      "Omkar Mundlik\n"
     ]
    }
   ],
   "source": [
    "a = open(\"../omkar.txt\", \"r\")\n",
    "print(a.read())\n",
    "a.close()"
   ]
  },
  {
   "attachments": {},
   "cell_type": "markdown",
   "metadata": {},
   "source": [
    "# Q3. Write a python program to create a text file. Write ‘I want to become a Data Scientist’ in that file. Then close the file. Open this file and read the content of the file."
   ]
  },
  {
   "cell_type": "code",
   "execution_count": 11,
   "metadata": {},
   "outputs": [],
   "source": [
    "f = open(\"newfile.txt\", \"w\")\n",
    "f.write(\"I want to become a data scientist\")\n",
    "f.close()"
   ]
  },
  {
   "cell_type": "code",
   "execution_count": 15,
   "metadata": {},
   "outputs": [
    {
     "name": "stdout",
     "output_type": "stream",
     "text": [
      "I want to become a data scientist\n"
     ]
    }
   ],
   "source": [
    "f = open(\"newfile.txt\", \"r\")\n",
    "print(f.read())\n",
    "f.close()"
   ]
  },
  {
   "attachments": {},
   "cell_type": "markdown",
   "metadata": {},
   "source": [
    "# Q4. Explain the following with python code: read(), readline() and readlines().\n",
    "    Read (): Returns the read bytes in the form of a string. Reads n bytes; if n is not specified, then reads the entire file.\n",
    "    readline() is used to read just one line from a file. It takes an paramemter n\n",
    "    readlines(): This method reads all the lines of the file and returns them as a list of strings. "
   ]
  },
  {
   "cell_type": "code",
   "execution_count": 22,
   "metadata": {},
   "outputs": [
    {
     "name": "stdout",
     "output_type": "stream",
     "text": [
      "I want to become a data scientist\n",
      "I want to bec\n"
     ]
    }
   ],
   "source": [
    "f = open(\"newfile.txt\", \"r\")\n",
    "print(f.read())      #reads total file\n",
    "f.seek(0)\n",
    "print(f.read(13))    # reads just 13 bytes in file\n",
    "f.close()"
   ]
  },
  {
   "cell_type": "code",
   "execution_count": 32,
   "metadata": {},
   "outputs": [
    {
     "name": "stdout",
     "output_type": "stream",
     "text": [
      "I want to become a data scientist\n",
      "I want to bec\n",
      "I want to become a data scientist\n"
     ]
    }
   ],
   "source": [
    "f = open(\"newfile.txt\", \"r\")\n",
    "print(f.readline())   # reads a line in a file\n",
    "f.seek(0)\n",
    "print(f.readline(13))\n",
    "f.seek(0)\n",
    "print(f.readline(100)) # if we take more number of bytes than a line contains then also it returns just current line\n",
    "f.close()"
   ]
  },
  {
   "cell_type": "code",
   "execution_count": 43,
   "metadata": {},
   "outputs": [
    {
     "name": "stdout",
     "output_type": "stream",
     "text": [
      "['Hey, My name is Omkar Mundlik.\\n', \"I'm Currently persuing my B-tech in Artificial Intelligence and Data Science.\\n\", 'I want to be a Data Scientist in next 6 months.']\n",
      "['Hey, My name is Omkar Mundlik.\\n']\n"
     ]
    }
   ],
   "source": [
    "f = open(\"../omkar.txt\", \"r\")\n",
    "print(f.readlines())\n",
    "f.seek(0)\n",
    "print(f.readlines(30))"
   ]
  },
  {
   "attachments": {},
   "cell_type": "markdown",
   "metadata": {},
   "source": [
    "# Q5. Explain why with statement is used with open(). What is the advantage of using with statement and open() together?\n",
    "\n",
    "    The with statement is often used in conjunction with the open() function in Python because it provides a convenient way to manage the lifetime of a file object. The with statement is used to wrap a block of code that requires a resource, such as a file, and automatically takes care of releasing the resource when the block of code is finished.\n",
    "\n",
    "    The advantage of using the with statement with open() is that it ensures that the file is properly closed, even if an exception is raised within the block of code. For example, if an exception is raised within a try block, the corresponding finally block is executed, even if an exception is raised. This ensures that the file is closed, even if an error occurs.\n",
    "\n",
    "    Here's an example of using the with statement with open():"
   ]
  },
  {
   "cell_type": "code",
   "execution_count": 49,
   "metadata": {},
   "outputs": [
    {
     "name": "stdout",
     "output_type": "stream",
     "text": [
      "Hello, i am writing in this file\n"
     ]
    }
   ],
   "source": [
    "with open(\"newfile.txt\", \"w\") as f:\n",
    "    f.write(\"Hello, i am writing in this file\")\n",
    "#no need to close the file manually.\n",
    "with open(\"newfile.txt\") as f:\n",
    "    print(f.read())"
   ]
  },
  {
   "attachments": {},
   "cell_type": "markdown",
   "metadata": {},
   "source": [
    "# Q6. Explain the write() and writelines() functions. Give a suitable example.\n",
    "    In Python, the write() and writelines() functions are used to write data to a file.\n",
    "\n",
    "    write(): This function writes a string to the file.\n",
    "    writelines(): This function writes a list of strings to the file."
   ]
  },
  {
   "cell_type": "code",
   "execution_count": 55,
   "metadata": {},
   "outputs": [
    {
     "name": "stdout",
     "output_type": "stream",
     "text": [
      "Hello\n",
      "Hello Everyone, \n",
      "I am writing a multiline text.\n",
      "I Love to learn and explore new things\n"
     ]
    }
   ],
   "source": [
    "with open(\"newfile.txt\", \"w\") as f:\n",
    "    f.write(\"Hello\")\n",
    "\n",
    "with open(\"newfile.txt\") as f:\n",
    "    print(f.read())\n",
    "\n",
    "with open(\"newfile.txt\", \"w\") as f:\n",
    "    f.writelines('''Hello Everyone, \n",
    "I am writing a multiline text.\n",
    "I Love to learn and explore new things''')\n",
    "\n",
    "\n",
    "with open(\"newfile.txt\") as f:\n",
    "    print(f.read())"
   ]
  }
 ],
 "metadata": {
  "kernelspec": {
   "display_name": "Python 3",
   "language": "python",
   "name": "python3"
  },
  "language_info": {
   "codemirror_mode": {
    "name": "ipython",
    "version": 3
   },
   "file_extension": ".py",
   "mimetype": "text/x-python",
   "name": "python",
   "nbconvert_exporter": "python",
   "pygments_lexer": "ipython3",
   "version": "3.10.7"
  },
  "orig_nbformat": 4,
  "vscode": {
   "interpreter": {
    "hash": "63963b3f4c440940f0b94a3100916033a226cb4f45979123153792d60aa56d6a"
   }
  }
 },
 "nbformat": 4,
 "nbformat_minor": 2
}
