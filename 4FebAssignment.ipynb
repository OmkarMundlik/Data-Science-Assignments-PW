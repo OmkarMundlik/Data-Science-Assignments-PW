{
 "cells": [
  {
   "attachments": {},
   "cell_type": "markdown",
   "metadata": {},
   "source": [
    "# Q1. Create a python program to sort the given list of tuples based on integer value using a lambda function."
   ]
  },
  {
   "cell_type": "code",
   "execution_count": 21,
   "metadata": {},
   "outputs": [
    {
     "data": {
      "text/plain": [
       "[('Virat Kohli', 24936),\n",
       " ('Jack Kallis', 25534),\n",
       " ('Ricky Ponting', 27483),\n",
       " ('Sachin Tendulkar', 34357)]"
      ]
     },
     "execution_count": 21,
     "metadata": {},
     "output_type": "execute_result"
    }
   ],
   "source": [
    "l =  [('Sachin Tendulkar', 34357), ('Ricky Ponting', 27483), ('Jack Kallis', 25534), ('Virat Kohli', 24936)]\n",
    "\n",
    "l = list(map(lambda x : x[::-1],l))\n",
    "l.sort()\n",
    "l = list(map(lambda x : x[::-1], l))\n",
    "l"
   ]
  },
  {
   "attachments": {},
   "cell_type": "markdown",
   "metadata": {},
   "source": [
    "# Q2. Write a Python Program to find the squares of all the numbers in the given list of integers using lambda and map functions.\n",
    "[1, 2, 3, 4, 5, 6, 7, 8, 9, 10]"
   ]
  },
  {
   "cell_type": "code",
   "execution_count": 6,
   "metadata": {},
   "outputs": [
    {
     "data": {
      "text/plain": [
       "[1, 4, 9, 16, 25, 36, 49, 64, 81, 100]"
      ]
     },
     "execution_count": 6,
     "metadata": {},
     "output_type": "execute_result"
    }
   ],
   "source": [
    "l = [1, 2, 3, 4, 5, 6, 7, 8, 9, 10]\n",
    "\n",
    "l = map(lambda x : x**2, l)\n",
    "list(l)"
   ]
  },
  {
   "attachments": {},
   "cell_type": "markdown",
   "metadata": {},
   "source": [
    "# Q3. Write a python program to convert the given list of integers into a tuple of strings. Use map andlambda functions\n",
    "Given String: [1, 2, 3, 4, 5, 6, 7, 8, 9, 10]\n",
    "Expected output: ('1', '2', '3', '4', '5', '6', '7', '8', '9', '10')"
   ]
  },
  {
   "cell_type": "code",
   "execution_count": 10,
   "metadata": {},
   "outputs": [
    {
     "name": "stdout",
     "output_type": "stream",
     "text": [
      "('1', '2', '3', '4', '5', '6', '7', '8', '9', '10')\n"
     ]
    }
   ],
   "source": [
    "l = [1, 2, 3, 4, 5, 6, 7, 8, 9, 10]\n",
    "l = map(lambda x: str(x), l)\n",
    "l = tuple(l)\n",
    "print(l)"
   ]
  },
  {
   "attachments": {},
   "cell_type": "markdown",
   "metadata": {},
   "source": [
    "# Q4. Write a python program using reduce function to compute the product of a list containing numbers from 1 to 25."
   ]
  },
  {
   "cell_type": "code",
   "execution_count": 17,
   "metadata": {},
   "outputs": [
    {
     "data": {
      "text/plain": [
       "15511210043330985984000000"
      ]
     },
     "execution_count": 17,
     "metadata": {},
     "output_type": "execute_result"
    }
   ],
   "source": [
    "from functools import *\n",
    "l = list(range(1, 26))\n",
    "product = reduce (lambda x, y: x*y, l)\n",
    "product"
   ]
  },
  {
   "attachments": {},
   "cell_type": "markdown",
   "metadata": {},
   "source": [
    "# Q5. Write a python program to filter the numbers in a given list that are divisible by 2 and 3 using the filter function.\n",
    "[2, 3, 6, 9, 27, 60, 90, 120, 55, 46]"
   ]
  },
  {
   "cell_type": "code",
   "execution_count": 3,
   "metadata": {},
   "outputs": [
    {
     "data": {
      "text/plain": [
       "[6, 60, 90, 120]"
      ]
     },
     "execution_count": 3,
     "metadata": {},
     "output_type": "execute_result"
    }
   ],
   "source": [
    "l = [2, 3, 6, 9, 27, 60, 90, 120, 55, 46]\n",
    "l = filter(lambda x : x%2==0 and x%3==0, l)\n",
    "\n",
    "list(l)\n"
   ]
  },
  {
   "attachments": {},
   "cell_type": "markdown",
   "metadata": {},
   "source": [
    "# Q6. Write a python program to find palindromes in the given list of strings using lambda and filter function.\n",
    "['python', 'php', 'aba', 'radar', 'level']"
   ]
  },
  {
   "cell_type": "code",
   "execution_count": 7,
   "metadata": {},
   "outputs": [
    {
     "data": {
      "text/plain": [
       "['php', 'aba', 'radar', 'level']"
      ]
     },
     "execution_count": 7,
     "metadata": {},
     "output_type": "execute_result"
    }
   ],
   "source": [
    "l = ['python', 'php', 'aba', 'radar', 'level']\n",
    "l = filter(lambda x : x[::-1]==x, l)\n",
    "list(l)"
   ]
  }
 ],
 "metadata": {
  "kernelspec": {
   "display_name": "Python 3",
   "language": "python",
   "name": "python3"
  },
  "language_info": {
   "codemirror_mode": {
    "name": "ipython",
    "version": 3
   },
   "file_extension": ".py",
   "mimetype": "text/x-python",
   "name": "python",
   "nbconvert_exporter": "python",
   "pygments_lexer": "ipython3",
   "version": "3.10.7"
  },
  "orig_nbformat": 4,
  "vscode": {
   "interpreter": {
    "hash": "63963b3f4c440940f0b94a3100916033a226cb4f45979123153792d60aa56d6a"
   }
  }
 },
 "nbformat": 4,
 "nbformat_minor": 2
}
