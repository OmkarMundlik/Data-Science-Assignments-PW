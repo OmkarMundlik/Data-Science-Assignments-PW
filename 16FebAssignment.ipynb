{
 "cells": [
  {
   "attachments": {},
   "cell_type": "markdown",
   "metadata": {},
   "source": [
    "# Q1. What is a database? Differentiate between SQL and NoSQL databases.\n",
    "A database is a collection of data that is organized in a way that makes it easy to access, manage, and update. It is used to store and manage large amounts of structured or unstructured data for various purposes, such as running applications, conducting analysis, and supporting business operations.\n",
    "\n",
    "There are two main types of databases: SQL (Structured Query Language) and NoSQL (Not Only SQL). Here are the key differences between the two:\n",
    "\n",
    "Data structure: SQL databases store data in tables that are structured with predefined schemas, whereas NoSQL databases store data in a variety of ways, such as key-value pairs, documents, graphs, and column families, without requiring a fixed schema.\n",
    "\n",
    "Scalability: SQL databases are vertically scalable, meaning that they can handle increased traffic and data volume by adding more hardware resources to a single server. NoSQL databases are horizontally scalable, meaning that they can handle increased traffic and data volume by adding more servers to a cluster.\n",
    "\n",
    "Query language: SQL databases use SQL as the primary query language for retrieving and manipulating data. NoSQL databases use a variety of query languages, depending on the data model and database type.\n",
    "\n",
    "Flexibility: SQL databases provide a high degree of data consistency and transactional support, making them suitable for applications that require strict data integrity and complex transactions. NoSQL databases provide greater flexibility and agility, making them suitable for applications that require high scalability, availability, and performance.\n",
    "\n",
    "Use cases: SQL databases are commonly used for transactional applications, such as e-commerce, finance, and healthcare, where data consistency and integrity are critical. NoSQL databases are commonly used for big data applications, such as social media, IoT, and gaming, where scalability, availability, and performance are critical.\n",
    "\n",
    "In summary, SQL databases are best suited for applications that require strict data consistency and complex transactions, while NoSQL databases are best suited for applications that require high scalability, availability, and performance with flexible data models."
   ]
  },
  {
   "attachments": {},
   "cell_type": "markdown",
   "metadata": {},
   "source": [
    "# Q2. What is DDL? Explain why CREATE, DROP, ALTER, and TRUNCATE are used with an example.\n",
    "\n",
    "DDL stands for Data Definition Language. It is a subset of SQL statements that are used to create, modify, and delete database objects, such as tables, indexes, and views.\n",
    "\n",
    "Here are some common DDL statements and their uses:\n",
    "\n",
    "CREATE: The CREATE statement is used to create a new database object, such as a table, view, or index. For example, the following statement creates a new table named \"users\" with columns for \"id\", \"name\", and \"email\":\n",
    "\n",
    "CREATE TABLE users (\n",
    "    id INT PRIMARY KEY,\n",
    "    name VARCHAR(50) NOT NULL,\n",
    "    email VARCHAR(50) UNIQUE\n",
    ");\n",
    "\n",
    "\n",
    "DROP: The DROP statement is used to delete an existing database object, such as a table, view, or index. For example, the following statement drops the \"users\" table:\n",
    "\n",
    "DROP TABLE users;\n",
    "\n",
    "\n",
    "ALTER: The ALTER statement is used to modify an existing database object, such as a table, view, or index. For example, the following statement adds a new column \"phone\" to the \"users\" table:\n",
    "\n",
    "ALTER TABLE users ADD COLUMN phone VARCHAR(20);\n",
    "\n",
    "\n",
    "TRUNCATE: The TRUNCATE statement is used to remove all data from a table, but does not delete the table itself. For example, the following statement removes all data from the \"users\" table:\n",
    "\n",
    "TRUNCATE TABLE users;\n",
    "\n",
    "\n",
    "In summary, CREATE is used to create new database objects, DROP is used to delete existing database objects, ALTER is used to modify existing database objects, and TRUNCATE is used to remove all data from a table. These DDL statements are essential for managing database schema and data."
   ]
  },
  {
   "attachments": {},
   "cell_type": "markdown",
   "metadata": {},
   "source": [
    "# Q3. What is DML? Explain INSERT, UPDATE, and DELETE with an example.\n",
    "\n",
    "DML stands for Data Manipulation Language. It is a subset of SQL statements that are used to insert, update, and delete data in a database.\n",
    "\n",
    "Here are some common DML statements and their uses:\n",
    "\n",
    "INSERT: The INSERT statement is used to insert new rows into a table. For example, the following statement inserts a new row into the \"users\" table with values for the \"id\", \"name\", and \"email\" columns:\n",
    "\n",
    "INSERT INTO users (id, name, email) VALUES (1, 'John Doe', 'john.doe@example.com');\n",
    "\n",
    "\n",
    "UPDATE: The UPDATE statement is used to modify existing rows in a table. For example, the following statement updates the \"email\" column of the row with an \"id\" of 1 in the \"users\" table:\n",
    "\n",
    "UPDATE users SET email = 'johndoe@example.com' WHERE id = 1;\n",
    "\n",
    "\n",
    "DELETE: The DELETE statement is used to remove one or more rows from a table. For example, the following statement deletes the row with an \"id\" of 1 from the \"users\" table:\n",
    "\n",
    "DELETE FROM users WHERE id = 1;\n",
    "\n",
    "\n",
    "In summary, INSERT is used to add new rows to a table, UPDATE is used to modify existing rows in a table, and DELETE is used to remove one or more rows from a table. These DML statements are essential for managing data in a database.\n"
   ]
  },
  {
   "attachments": {},
   "cell_type": "markdown",
   "metadata": {},
   "source": [
    "# Q4. What is DQL? Explain SELECT with an example.\n",
    "\n",
    "DQL stands for Data Query Language. It is a subset of SQL statements that are used to retrieve data from a database. The most common DQL statement is SELECT, which is used to select data from one or more tables in a database.\n",
    "\n",
    "The basic syntax of a SELECT statement is as follows:\n",
    "\n",
    "SELECT column1, column2, ... FROM table_name WHERE condition;\n",
    "\n",
    "Here's an example of a SELECT statement:\n",
    "\n",
    "SELECT id, name, email FROM users WHERE age >= 18;\n",
    "In this example, the SELECT statement retrieves data from the \"users\" table, selecting only the \"id\", \"name\", and \"email\" columns. The WHERE clause specifies a condition that filters the results to only include rows where the \"age\" column is greater than or equal to 18."
   ]
  },
  {
   "attachments": {},
   "cell_type": "markdown",
   "metadata": {},
   "source": [
    "# Q6. Write a python code to connect MySQL to python. Explain the cursor() and execute() method.\n",
    "\n",
    "In Python, a cursor is an object that allows you to interact with a database and execute SQL queries. A cursor is created by calling the cursor() method on a database connection object. The cursor object provides various methods for executing SQL queries and fetching the results.\n",
    "\n",
    "The execute() method is a cursor method that is used to execute SQL queries. It takes the SQL query as a parameter and returns None. The execute() method can be used to execute any type of SQL query, including SELECT, INSERT, UPDATE, and DELETE statements"
   ]
  },
  {
   "cell_type": "code",
   "execution_count": 1,
   "metadata": {},
   "outputs": [],
   "source": [
    "import mysql.connector"
   ]
  },
  {
   "cell_type": "code",
   "execution_count": 7,
   "metadata": {},
   "outputs": [
    {
     "name": "stdout",
     "output_type": "stream",
     "text": [
      "('employeeinfo',)\n",
      "('information_schema',)\n",
      "('join1',)\n",
      "('mysql',)\n",
      "('new_db',)\n",
      "('performance_schema',)\n",
      "('practice',)\n",
      "('student_info',)\n",
      "('students',)\n",
      "('sys',)\n",
      "('vit',)\n"
     ]
    }
   ],
   "source": [
    "mydb = mysql.connector.Connect(\n",
    "    host='localhost',\n",
    "    user='root',\n",
    "    password='<password>'\n",
    ")\n",
    "\n",
    "mycursor = mydb.cursor()\n",
    "\n",
    "mycursor.execute('show databases;')\n",
    "result = mycursor.fetchall()\n",
    "\n",
    "for i in result:\n",
    "    print(i)"
   ]
  },
  {
   "attachments": {},
   "cell_type": "markdown",
   "metadata": {},
   "source": [
    "# Q7. Give the order of execution of SQL clauses in an SQL query.\n",
    "\n",
    "In an SQL query, the clauses are executed in the following order:\n",
    "\n",
    "FROM: The FROM clause specifies the table(s) from which the data is selected.\n",
    "\n",
    "JOIN: The JOIN clause is used to combine rows from two or more tables based on a related column between them.\n",
    "\n",
    "WHERE: The WHERE clause is used to filter the rows returned by the SELECT statement based on a condition.\n",
    "\n",
    "GROUP BY: The GROUP BY clause is used to group the rows returned by the SELECT statement based on one or more columns.\n",
    "\n",
    "HAVING: The HAVING clause is used to filter the groups returned by the GROUP BY clause based on a condition.\n",
    "\n",
    "SELECT: The SELECT clause is used to specify the columns that should be returned in the result set.\n",
    "\n",
    "DISTINCT: The DISTINCT clause is used to remove duplicate rows from the result set.\n",
    "\n",
    "ORDER BY: The ORDER BY clause is used to sort the result set based on one or more columns.\n",
    "\n",
    "LIMIT: The LIMIT clause is used to limit the number of rows returned by the SELECT statement.\n",
    "\n",
    "It's worth noting that not all of these clauses are required for every SQL query. The SELECT and FROM clauses are required for every query, but the other clauses are optional and can be used as needed to filter, group, sort, and limit the result set."
   ]
  }
 ],
 "metadata": {
  "kernelspec": {
   "display_name": "Python 3",
   "language": "python",
   "name": "python3"
  },
  "language_info": {
   "codemirror_mode": {
    "name": "ipython",
    "version": 3
   },
   "file_extension": ".py",
   "mimetype": "text/x-python",
   "name": "python",
   "nbconvert_exporter": "python",
   "pygments_lexer": "ipython3",
   "version": "3.10.7"
  },
  "orig_nbformat": 4,
  "vscode": {
   "interpreter": {
    "hash": "63963b3f4c440940f0b94a3100916033a226cb4f45979123153792d60aa56d6a"
   }
  }
 },
 "nbformat": 4,
 "nbformat_minor": 2
}
