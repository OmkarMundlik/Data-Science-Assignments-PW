{
 "cells": [
  {
   "attachments": {},
   "cell_type": "markdown",
   "metadata": {},
   "source": [
    "# 1.Who developed python programming language?\n",
    "\n",
    "    Python was created by Guido van Rossum, and first released on February 20, 1991."
   ]
  },
  {
   "attachments": {},
   "cell_type": "markdown",
   "metadata": {},
   "source": [
    "# 2.Which type of programming does python Support?\n",
    "\n",
    "    Python is an interpreted programming language, supporting object-oriented, structured, and functional programming."
   ]
  },
  {
   "attachments": {},
   "cell_type": "markdown",
   "metadata": {
    "tags": []
   },
   "source": [
    "# 3. Is python case sensitive when dealing with identifiers?\n",
    "    Yes, Python is a case sensitive Programming language. It treats uppercase and lowercase characters differently. This thing is applicable to identifiers too. We have to take care of not using same name again as identifier in code.\n"
   ]
  },
  {
   "attachments": {},
   "cell_type": "markdown",
   "metadata": {},
   "source": [
    "# 4.What is the correct extension of a python file?\n",
    "    The most common and recommended extension for a Python file is .py . This is the standard extension for Python source code files and is recognized by most Python environments."
   ]
  },
  {
   "attachments": {},
   "cell_type": "markdown",
   "metadata": {},
   "source": [
    "# 5.Is python code compiled or interpreted?\n",
    "    Python code is interpreted, not compiled which means the code gets executed line by line when we a run a python script. This makes the development and debugging process easier and more flexible, but can also result in slower performance compared to compiled languages. "
   ]
  },
  {
   "attachments": {},
   "cell_type": "markdown",
   "metadata": {},
   "source": [
    "# 6. Name a few block of code used to define in python language.\n",
    "    **Function definition:** defined using the def keyword, functions are blocks of code that can be called multiple times within a program.\n",
    "\n",
    "    **Class definition:** defined using the class keyword, classes are blocks of code that define the behavior of objects in object-oriented programming.\n",
    "\n",
    "    **Conditional statements:** defined using if, elif, and else keywords, conditional statements allow the execution of different blocks of code based on the value of a condition.\n",
    "\n",
    "    **Loop structures:** defined using for and while loops, loop structures allow the repeated execution of a block of code until a certain condition is met.\n",
    "\n",
    "    **Exception handling:** defined using try and except keywords, exception handling allows for graceful handling of errors and exceptions in a program.\n",
    "\n",
    "    **Context Manager:** defined using with statement, context managers manage the lifecycle of resources like files, sockets, etc."
   ]
  },
  {
   "attachments": {},
   "cell_type": "markdown",
   "metadata": {},
   "source": [
    "# 7. State a Character used to give single line comments in python?\n",
    "\n",
    "    Character # is used to give as single line comment in python whereas to give multiline comment, we use \"\"\" code \"\"\" or ''' code '''."
   ]
  },
  {
   "attachments": {},
   "cell_type": "markdown",
   "metadata": {},
   "source": [
    "# 8. Mention functions which can help us to find the version of python that we are currently working on?\n",
    "    python_version()\n",
    "    sys.version"
   ]
  },
  {
   "cell_type": "code",
   "execution_count": null,
   "metadata": {},
   "outputs": [
    {
     "data": {
      "text/plain": [
       "'3.10.7 (tags/v3.10.7:6cc6b13, Sep  5 2022, 14:08:36) [MSC v.1933 64 bit (AMD64)]'"
      ]
     },
     "metadata": {},
     "output_type": "display_data"
    }
   ],
   "source": [
    "# from platform import python_version\n",
    "import platform\n",
    "platform.python_version()\n",
    "\n",
    "import sys\n",
    "sys.version"
   ]
  },
  {
   "attachments": {},
   "cell_type": "markdown",
   "metadata": {},
   "source": [
    "# 9.Python supports the creation of anonymous functinos at runtime, using a construct called .....\n",
    "    Python supports to make anonymous functions which are not bound to a name(@ runtime). It uses a construct called \"lambda\".\n"
   ]
  },
  {
   "attachments": {},
   "cell_type": "markdown",
   "metadata": {},
   "source": [
    "# 10. What does a pip stad for?\n",
    "    pip stands for preferred installer program.\n"
   ]
  },
  {
   "attachments": {},
   "cell_type": "markdown",
   "metadata": {},
   "source": [
    "# 11. Mention few built in functions in python.\n",
    "    len() :  returns number of items in a container.\n",
    "    print() : prints the values in the console.\n",
    "    input() : used to take input from user.\n",
    "    sum() : used to find sum of all items in a container."
   ]
  },
  {
   "attachments": {},
   "cell_type": "markdown",
   "metadata": {},
   "source": [
    "# 12. What is the maximum possible length of an identifier in python?\n",
    "    An identifier can have a maximum length of 79 characters in Python."
   ]
  },
  {
   "attachments": {},
   "cell_type": "markdown",
   "metadata": {},
   "source": [
    "# 13. What are the benefits of using python?\n",
    "    Python is easy to learn and use.\n",
    "    python improves productivity.\n",
    "    python is easily portable.\n",
    "    python has a massive library support.\n",
    "    Python is used widely in development such as web, ML, etc.\n",
    "    Python is easy to integrate with other programming languages.\n"
   ]
  },
  {
   "attachments": {},
   "cell_type": "markdown",
   "metadata": {},
   "source": [
    "# 14. How is memory managed in python?\n",
    "    Memory management in Python involves a private heap containing all Python objects and data structures. The management of this private heap is ensured internally by the Python memory manager.\n"
   ]
  },
  {
   "attachments": {},
   "cell_type": "markdown",
   "metadata": {},
   "source": [
    "# 15. How to install python on windows and set path variables?\n",
    "    Download python from official website of python.\n",
    "    install python on your device.\n",
    "    Look for the location where PYTHON has been installed on your PC using tge following command on your command prompt: cmd python.\n",
    "    Then go to advanced system settings and add new variable and name it as PYTHON_NAME and paste the copied path.\n",
    "    Then look for the path variable, select it's value and select edit\n",
    "    Add a semicolon towards the end of the value if it's not present and then type %PYTHON_HOME%\n"
   ]
  },
  {
   "attachments": {},
   "cell_type": "markdown",
   "metadata": {},
   "source": [
    "# 16. Is indentation required in python?\n",
    "    Indentation is must in python.\n",
    "    Indentation refers to the spaces at the beginning of a code line. Where in other programming languages the indentation in code is for readability only, the indentation in Python is very important. Python uses indentation to indicate a block of code.\n"
   ]
  }
 ],
 "metadata": {
  "kernelspec": {
   "display_name": "Python 3",
   "language": "python",
   "name": "python3"
  },
  "language_info": {
   "codemirror_mode": {
    "name": "ipython",
    "version": 3
   },
   "file_extension": ".py",
   "mimetype": "text/x-python",
   "name": "python",
   "nbconvert_exporter": "python",
   "pygments_lexer": "ipython3",
   "version": "3.10.7"
  },
  "orig_nbformat": 4,
  "vscode": {
   "interpreter": {
    "hash": "63963b3f4c440940f0b94a3100916033a226cb4f45979123153792d60aa56d6a"
   }
  }
 },
 "nbformat": 4,
 "nbformat_minor": 2
}
