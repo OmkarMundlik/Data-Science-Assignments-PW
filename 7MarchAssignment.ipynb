{
 "cells": [
  {
   "attachments": {},
   "cell_type": "markdown",
   "metadata": {},
   "source": [
    "# Q1. What are the three measures of central tendency?\n",
    "Three measures of central tendency are \n",
    "1. mean: Average of all data element.\n",
    "2. Median: Middle element in a particular dataset.\n",
    "3. Mode: element with maximum frequency in a particular dataset."
   ]
  },
  {
   "attachments": {},
   "cell_type": "markdown",
   "metadata": {},
   "source": [
    "# Q2. What is the difference between the mean, median, and mode? How are they used to measure the central tendency of a dataset?\n",
    "mean is the average of all the data elements in a particular column. \n",
    "\n",
    "Median is the middle element in the column when all elements are arranged in increasing or decreasing order.\n",
    "\n",
    "Mode is the element with maximum frequency in a particular column.\n",
    "\n",
    "They are used in measuring the central tendency of a dataset as follows: \n",
    "mean gives us the average of the dataset so it can be considered as the centrally alligned element.\n",
    "\n",
    "If outliers present in the data, then mean may not be good choice there as it will generate too much difference.\n",
    "In such cases, we should use median as a most centrally aligned element in a dataset.\n",
    "\n",
    "If we have categorical data, we should not calculate the mean and median of the data, so in such cases, we use the frequency of different categories so as to find most centrally alliigned category. This is mode.\n",
    "\n",
    "This is How this three are sued in measuring the central tendency of a dataset."
   ]
  },
  {
   "attachments": {},
   "cell_type": "markdown",
   "metadata": {},
   "source": [
    "# Q3. Measure the three measures of central tendency for the given height data:\n",
    "[178,177,176,177,178.2,178,175,179,180,175,178.9,176.2,177,172.5,178,176.5]"
   ]
  },
  {
   "cell_type": "code",
   "execution_count": 10,
   "metadata": {},
   "outputs": [
    {
     "name": "stdout",
     "output_type": "stream",
     "text": [
      "Mean :  177.01875\n",
      "Median :  177.0\n",
      "Mode:  ModeResult(mode=array([177.]), count=array([3]))\n"
     ]
    },
    {
     "name": "stderr",
     "output_type": "stream",
     "text": [
      "C:\\Users\\hp\\AppData\\Local\\Temp\\ipykernel_30788\\2787581389.py:8: FutureWarning: Unlike other reduction functions (e.g. `skew`, `kurtosis`), the default behavior of `mode` typically preserves the axis it acts along. In SciPy 1.11.0, this behavior will change: the default value of `keepdims` will become False, the `axis` over which the statistic is taken will be eliminated, and the value None will no longer be accepted. Set `keepdims` to True or False to avoid this warning.\n",
      "  mode = stat.mode(data)\n"
     ]
    }
   ],
   "source": [
    "import numpy as np\n",
    "import scipy.stats as stat\n",
    "\n",
    "data = [178,177,176,177,178.2,178,175,179,180,175,178.9,176.2,177,172.5,178,176.5]\n",
    "\n",
    "mean = np.mean(data)\n",
    "median = np.median(data)\n",
    "mode = stat.mode(data)\n",
    "print(\"Mean : \", mean)\n",
    "print(\"Median : \", median)\n",
    "print(\"Mode: \", mode)"
   ]
  },
  {
   "attachments": {},
   "cell_type": "markdown",
   "metadata": {},
   "source": [
    "# Q4. Find the standard deviation for the given data:\n",
    "[178,177,176,177,178.2,178,175,179,180,175,178.9,176.2,177,172.5,178,176.5]"
   ]
  },
  {
   "cell_type": "code",
   "execution_count": 11,
   "metadata": {},
   "outputs": [
    {
     "data": {
      "text/plain": [
       "1.7885814036548633"
      ]
     },
     "execution_count": 11,
     "metadata": {},
     "output_type": "execute_result"
    }
   ],
   "source": [
    "data = [178,177,176,177,178.2,178,175,179,180,175,178.9,176.2,177,172.5,178,176.5]\n",
    "\n",
    "np.std(data)"
   ]
  },
  {
   "attachments": {},
   "cell_type": "markdown",
   "metadata": {},
   "source": [
    "# Q5. How are measures of dispersion such as range, variance, and standard deviation used to describe the spread of a dataset? Provide an example.\n",
    "\n",
    "The range of the dataset is the difference between maximum and minimum value in a dataset. It provides a quick and easy way to find the spread of the data. But it is sensitive to outliers and can be affected by extreme values. \n",
    "e.x. consider following dataset\n",
    "[2, 5, 7, 8, 9, 11, 12, 14, 15, 20]\n",
    "\n",
    "range = 20 - 2 = 18 \n",
    "\n",
    "which means data is largely spread.\n",
    "\n",
    "The variance of a dataset measures how far the data points are from the mean of dataset.  It considers all the data points and is less sensitive to outliers as compared to range. Variance can be calculated by calculating sum of squares of difference between data points and and the mean of the data divided by number of data points minus 1.\n",
    "In the previous example, \n",
    "variance = 31.21\n",
    "\n",
    "The standard deviation is the square root of the variance and provides the average distance between each data point and the mean. It is also less sensitive to outliers as compared to range.\n",
    "\n",
    "In previous example, \n",
    "standard deviation = 5.59\n"
   ]
  },
  {
   "cell_type": "code",
   "execution_count": 16,
   "metadata": {},
   "outputs": [
    {
     "name": "stdout",
     "output_type": "stream",
     "text": [
      "Range:  18\n",
      "Variance:  24.810000000000002\n",
      "Standard Deviation:  4.980963762164909\n"
     ]
    }
   ],
   "source": [
    "data = [2, 5, 7, 8, 9, 11, 12, 14, 15, 20]\n",
    "range = max(data) - min(data)\n",
    "variance = np.var(data)\n",
    "standard_deviation = np.std(data)\n",
    "\n",
    "print(\"Range: \", range)\n",
    "print(\"Variance: \", variance)\n",
    "print(\"Standard Deviation: \", standard_deviation)"
   ]
  },
  {
   "attachments": {},
   "cell_type": "markdown",
   "metadata": {},
   "source": [
    "# Q6. What is a Venn diagram?\n",
    "\n",
    "Venn diagram is the diagramatic representation of the sets."
   ]
  },
  {
   "attachments": {},
   "cell_type": "markdown",
   "metadata": {},
   "source": [
    "# Q7. For the two given sets A = (2,3,4,5,6,7) & B = (0,2,6,8,10). Find:\n",
    "(i) A & B\n",
    "(ii) A ⋃ B"
   ]
  },
  {
   "cell_type": "code",
   "execution_count": 19,
   "metadata": {},
   "outputs": [
    {
     "name": "stdout",
     "output_type": "stream",
     "text": [
      "Intersection :  {2, 6}\n",
      "Union:  {0, 2, 3, 4, 5, 6, 7, 8, 10}\n"
     ]
    }
   ],
   "source": [
    "A = set((2,3,4,5,6,7))\n",
    "B = set((0,2,6,8,10))\n",
    "print(\"Intersection : \", A.intersection(B))\n",
    "\n",
    "print(\"Union: \", A.union(B))"
   ]
  },
  {
   "attachments": {},
   "cell_type": "markdown",
   "metadata": {},
   "source": [
    "# Q8. What do you understand about skewness in data?\n",
    "Skewness is the measure of asymmetry in a probability distribution.\n",
    "In symmetric distribtution, the mean, median and mode all are equal. In asymmetric distribution, they all are different from each other. \n",
    "A positive or right skewed dataset means the tail of probability distribution is longer on the right side of the distribution.\n",
    "Is a dataset is positively /right skewed, it means that there are more low values than high values and the mean will be more than the median of the dataset. \n",
    "\n",
    "A negatively or left skewed dataset means the tail of the distribution is longer on left side.\n",
    "Here, mean will be less than the median and mode is the highes among this three. \n"
   ]
  },
  {
   "attachments": {},
   "cell_type": "markdown",
   "metadata": {},
   "source": [
    "# Q9. If a data is right skewed then what will be the position of median with respect to mean?\n",
    "If the data is right skewed, then median should be smaller than mean. Median should lie to the right side of mean."
   ]
  },
  {
   "attachments": {},
   "cell_type": "markdown",
   "metadata": {},
   "source": [
    "# Q10. Explain the difference between covariance and correlation. How are these measures used in statistical analysis?\n",
    "Covariance and correlation are two related measures that describe the relationship between two variables in a dataset.\n",
    "Covariance measures how to variables vary together. It measures direction and magnitude of relationship between two variables. A positive covariance indicates that two variables tend to vary together in same direction. while a negative covariance indicates that they tend to vary in opposite directions. However the magnitude of the covariance depends on the units of the two variables which can make it difficult to interpret.\n",
    "\n",
    "Correlation, on the other hand, is a standardized version of covariance that measures the strength and direction of the relationship between two variables on a scale from -1 to +1. A correlation of 1 indiacates a perfect positive relationship while -1 represents perfect negative correlationship.(two variables are moving in opposite direction)\n",
    "Correlationship with -1 indiacates that there is no relation between two variables.\n",
    "\n",
    "Both covariance and correlation are used in statistical analysis to examine the relationship between two variables. They can be used to test hypotheses about the nature of the relationship between the variables, to identify outliers or influential observations in the dataset, and to develop predictive models that can be used to make forecasts or decisions based on the data."
   ]
  },
  {
   "attachments": {},
   "cell_type": "markdown",
   "metadata": {},
   "source": [
    "# Q11. What is the formula for calculating the sample mean? Provide an example calculation for a dataset.\n",
    "We can calculate the sample mean by formula: \n",
    "Sample mean = summation of all data points in sample / number of data points in a sample.\n",
    "e.g. sample = [1,2,3,4,5]\n",
    "sample mean = (1+2+3+4+5) / 5 = 3"
   ]
  },
  {
   "attachments": {},
   "cell_type": "markdown",
   "metadata": {},
   "source": [
    "# Q12. For a normal distribution data what is the relationship between its measure of central tendency?\n",
    "For a normally distributed data, mean, median , mode all are equal and are at the center of the distribution."
   ]
  },
  {
   "attachments": {},
   "cell_type": "markdown",
   "metadata": {},
   "source": [
    "# Q13. How is covariance different from correlation?\n",
    "Covariance determines the magnitude and direction of the relationship between two variables. Magnitude of the covariance depends on the units of variables in the datasets. \n",
    "Correlation gives a scale for determining the strength of relationship between two variables. That strength scales between -1 to 1.\n",
    "-1 means string negative correlation between the variables whereas +1 means strong negative correlation between variables.\n",
    "\n",
    "In summary, we can say that covariance is not standardized. It depends on the units of the variables but correlation is standardized. It measures the strength of the relationship on a scale between -1 to 1."
   ]
  },
  {
   "attachments": {},
   "cell_type": "markdown",
   "metadata": {},
   "source": [
    "# Q14. How do outliers affect measures of central tendency and dispersion? Provide an example.\n",
    "\n",
    "mean: If there are outliers in the data, then mean will deviate from the actual mean and go slightly go towards outliers.This will give a large error between actual mean and the calculated mean.\n",
    "\n",
    "Median: Outliers have no effect on median as the median is the most centrally located element. Outliers lie on extreme ends of a dataset.\n",
    "\n",
    "Outliers do not affect mode too a mode counts the maximum frequency element in the dataset but mode is used for categorical variables and no for continuous variables.\n",
    "\n",
    "outliers can have a significant impact on the standard deviation, particularly when the outlier is far from the mean. The standard deviation measures how much the values in a dataset vary from the mean. When an outlier is present, it can increase the amount of variation in the dataset and thus increase the standard deviation.\n",
    "\n",
    "For example, consider a dataset of salaries where most employees earn between $40,000 and $60,000 per year, but the CEO earns $10 million per year. The CEO's salary will significantly increase the standard deviation of the dataset, even though it does not reflect the typical variation in salaries for the other employees."
   ]
  }
 ],
 "metadata": {
  "kernelspec": {
   "display_name": "Python 3",
   "language": "python",
   "name": "python3"
  },
  "language_info": {
   "codemirror_mode": {
    "name": "ipython",
    "version": 3
   },
   "file_extension": ".py",
   "mimetype": "text/x-python",
   "name": "python",
   "nbconvert_exporter": "python",
   "pygments_lexer": "ipython3",
   "version": "3.10.7"
  },
  "orig_nbformat": 4
 },
 "nbformat": 4,
 "nbformat_minor": 2
}
