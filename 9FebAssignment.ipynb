{
 "cells": [
  {
   "attachments": {},
   "cell_type": "markdown",
   "metadata": {},
   "source": [
    "# Q1, Create a vehicle class with an init method having instance variables as name_of_vehicle, max_speed and average_of_vehicle."
   ]
  },
  {
   "cell_type": "code",
   "execution_count": 1,
   "metadata": {},
   "outputs": [
    {
     "data": {
      "text/plain": [
       "20"
      ]
     },
     "execution_count": 1,
     "metadata": {},
     "output_type": "execute_result"
    }
   ],
   "source": [
    "class vehicle:\n",
    "    def __init__(self, name_of_vehicle, max_speed, average_of_vehicle):\n",
    "        self.name_of_vehicle = name_of_vehicle\n",
    "        self.max_speed = max_speed\n",
    "        self.average_of_vehicle = average_of_vehicle\n",
    "\n",
    "v = vehicle(\"Mercedes\", 100, 20)\n",
    "v.average_of_vehicle"
   ]
  },
  {
   "attachments": {},
   "cell_type": "markdown",
   "metadata": {},
   "source": [
    "# Q2. Create a child class car from the vehicle class created in Que 1, which will inherit the vehicle class. Create a method named seating_capacity which takes capacity as an argument and returns the name of the vehicle and its seating capacity."
   ]
  },
  {
   "cell_type": "code",
   "execution_count": 4,
   "metadata": {},
   "outputs": [
    {
     "data": {
      "text/plain": [
       "('BMW', 4)"
      ]
     },
     "execution_count": 4,
     "metadata": {},
     "output_type": "execute_result"
    }
   ],
   "source": [
    "class car(vehicle) :\n",
    "    def seating_capacity(self, capacity):\n",
    "        self.capacity = capacity\n",
    "        return self.name_of_vehicle, self.capacity\n",
    "c = car(\"BMW\", 100, 20)\n",
    "c.seating_capacity(4)"
   ]
  },
  {
   "attachments": {},
   "cell_type": "markdown",
   "metadata": {},
   "source": [
    "# Q3. What is multiple inheritance? Write a python code to demonstrate multiple inheritance.\n",
    "    When a class inherits properties of more than one classes, then this process is called as multiple inheritance."
   ]
  },
  {
   "cell_type": "code",
   "execution_count": 7,
   "metadata": {},
   "outputs": [
    {
     "name": "stdout",
     "output_type": "stream",
     "text": [
      "I am class 1\n",
      "I am class 2\n"
     ]
    }
   ],
   "source": [
    "# this is class c1\n",
    "class c1:  \n",
    "    def greet(self):\n",
    "        return \"I am class 1\"\n",
    "\n",
    "# this is class c2 \n",
    "class c2:\n",
    "    def greet2(self):\n",
    "        return \"I am class 2\"\n",
    "    \n",
    "# this class c3 inherits properties of both clases c1 and c2\n",
    "class c3(c1, c2):\n",
    "    pass\n",
    "\n",
    "# creating instance of class c3\n",
    "a = c3()\n",
    "print(a.greet())\n",
    "print(a.greet2())"
   ]
  },
  {
   "attachments": {},
   "cell_type": "markdown",
   "metadata": {},
   "source": [
    "# Q4. What are getter and setter in python? Create a class and create a getter and a setter method in this class.\n",
    "    Getters and setters are special methods that provide a way to access and modify the data within an object. The getter method returns the value of a property, while the setter method sets the value of a property.."
   ]
  },
  {
   "cell_type": "code",
   "execution_count": 32,
   "metadata": {},
   "outputs": [],
   "source": [
    "class Person :\n",
    "    def __init__(self, name, age):\n",
    "        self.__name = name\n",
    "        self.__age = age\n",
    "    \n",
    "    def getName(self):\n",
    "        return self.__name\n",
    "\n",
    "    def setName(self, name):\n",
    "        self.__name = name\n",
    "\n",
    "    def getAge(self):\n",
    "        return self.__age\n",
    "\n",
    "    def setAge(self, age):\n",
    "        self.__age = age"
   ]
  },
  {
   "cell_type": "code",
   "execution_count": 30,
   "metadata": {},
   "outputs": [
    {
     "name": "stdout",
     "output_type": "stream",
     "text": [
      "Omkar\n",
      "19\n",
      "Mundlik\n",
      "20\n"
     ]
    }
   ],
   "source": [
    "p1 = Person(\"Omkar\", 19)\n",
    "print(p1.getName())\n",
    "print(p1.getAge())\n",
    "p1.setName(\"Mundlik\")\n",
    "p1.setAge(20)\n",
    "print(p1.getName())\n",
    "print(p1.getAge())\n"
   ]
  },
  {
   "attachments": {},
   "cell_type": "markdown",
   "metadata": {},
   "source": [
    "# Q5.What is method overriding in python? Write a python code to demonstrate method overriding.\n",
    "    \n",
    "    Method overriding is a feature in object-oriented programming where a subclass provides a different implementation for a method that is already defined in its superclass. This allows the subclass to extend or modify the behavior of the inherited method to meet the requirements of its specific use case."
   ]
  },
  {
   "cell_type": "code",
   "execution_count": 63,
   "metadata": {},
   "outputs": [
    {
     "data": {
      "text/plain": [
       "'The Dog barks'"
      ]
     },
     "execution_count": 63,
     "metadata": {},
     "output_type": "execute_result"
    }
   ],
   "source": [
    "class Animal:\n",
    "    def make_sound(self) :\n",
    "        return \"The animal sounds\"\n",
    "    \n",
    "class Dog(Animal):\n",
    "    def make_sound(self) :\n",
    "        return \"The Dog barks\"\n",
    "    \n",
    "dog = Dog()\n",
    "dog.make_sound()"
   ]
  }
 ],
 "metadata": {
  "kernelspec": {
   "display_name": "Python 3",
   "language": "python",
   "name": "python3"
  },
  "language_info": {
   "codemirror_mode": {
    "name": "ipython",
    "version": 3
   },
   "file_extension": ".py",
   "mimetype": "text/x-python",
   "name": "python",
   "nbconvert_exporter": "python",
   "pygments_lexer": "ipython3",
   "version": "3.10.7"
  },
  "orig_nbformat": 4,
  "vscode": {
   "interpreter": {
    "hash": "63963b3f4c440940f0b94a3100916033a226cb4f45979123153792d60aa56d6a"
   }
  }
 },
 "nbformat": 4,
 "nbformat_minor": 2
}
