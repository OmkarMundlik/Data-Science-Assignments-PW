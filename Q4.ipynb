{
 "cells": [
  {
   "cell_type": "code",
   "execution_count": 1,
   "metadata": {},
   "outputs": [
    {
     "name": "stdout",
     "output_type": "stream",
     "text": [
      "T-test : -1.8973665961010275\n",
      "P-value: 0.09434977284243756\n"
     ]
    }
   ],
   "source": [
    "from scipy import stats\n",
    "def perform_hypothesis_test(sample1, sample2):\n",
    "    t_stats, p_value = stats.ttest_ind(sample1, sample2)\n",
    "\n",
    "    return t_stats, p_value\n",
    "\n",
    "\n",
    "sample1 = [5, 10, 15, 20, 25]\n",
    "sample2 = [10, 20, 30, 40, 50]\n",
    "t_stats, p_value = perform_hypothesis_test(sample1, sample2)\n",
    "print(\"T-test :\", t_stats)\n",
    "print(\"P-value:\", p_value)\n"
   ]
  }
 ],
 "metadata": {
  "kernelspec": {
   "display_name": "Python 3",
   "language": "python",
   "name": "python3"
  },
  "language_info": {
   "codemirror_mode": {
    "name": "ipython",
    "version": 3
   },
   "file_extension": ".py",
   "mimetype": "text/x-python",
   "name": "python",
   "nbconvert_exporter": "python",
   "pygments_lexer": "ipython3",
   "version": "3.10.7"
  },
  "orig_nbformat": 4
 },
 "nbformat": 4,
 "nbformat_minor": 2
}
