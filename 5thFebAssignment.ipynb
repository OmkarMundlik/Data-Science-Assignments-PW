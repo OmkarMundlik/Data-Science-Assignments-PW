{
 "cells": [
  {
   "attachments": {},
   "cell_type": "markdown",
   "metadata": {},
   "source": [
    "# Q1. Explain Class and Object with respect to Object-Oriented Programming. Give a suitable example.\n",
    "    A Class is a blueprint or a template for creating objects. It defines a set of attributes and behaviors that an object of that class will have. A class is like a prototype that you can use to create many objects of the same kind.\n",
    "\n",
    "    An Object is an instance of a class. It represents a specific entity with its own attributes and behaviors. An object is a real-world object, like a person, a car, a bank account, etc., that you want to represent in your program.\n",
    "\n",
    "    For example, consider a class called \"Car\". The class could define the attributes of a car such as make, model, year, color, etc., and behaviors such as starting the engine, accelerating, braking, etc. You can then create multiple objects of the \"Car\" class, each representing a specific car, such as a red 2019 Honda Civic.\n",
    "\n",
    "    So, the class is a blueprint, while an object is an instance created from that blueprint."
   ]
  },
  {
   "attachments": {},
   "cell_type": "markdown",
   "metadata": {},
   "source": [
    "# Q2. Name the four pillars of OOPs.\n",
    "    Four pillars of oops are:\n",
    "    1. Inheritance\n",
    "    2. Polymorphism\n",
    "    3. Abstraction\n",
    "    4. Encapsulation"
   ]
  },
  {
   "attachments": {},
   "cell_type": "markdown",
   "metadata": {},
   "source": [
    "# Q3. Explain why the __init__() function is used. Give a suitable example.\n",
    "    The __init__ method, also known as the constructor, is a special method in Python classes that is automatically called when an object of the class is created. It is used to initialize the attributes of the class when an object is created."
   ]
  },
  {
   "cell_type": "code",
   "execution_count": 4,
   "metadata": {},
   "outputs": [
    {
     "data": {
      "text/plain": [
       "'Hello Omkar Mundlik , Very Good Evening.'"
      ]
     },
     "execution_count": 4,
     "metadata": {},
     "output_type": "execute_result"
    }
   ],
   "source": [
    "class student:\n",
    "    def __init__(self, name, s_id):\n",
    "        self.name = name\n",
    "        self.s_id = s_id\n",
    "\n",
    "s1 = student(\"Omkar Mundlik\", 12111025)\n",
    "s1.name\n",
    "s1.greeting()"
   ]
  },
  {
   "attachments": {},
   "cell_type": "markdown",
   "metadata": {},
   "source": [
    "Above is a student class who has attributes name and s_id. __init__() is called when i created the object s1 of the class student."
   ]
  },
  {
   "attachments": {},
   "cell_type": "markdown",
   "metadata": {},
   "source": [
    "# Q4. Why self is used in oops ?\n",
    "    In Object-Oriented Programming (OOP), self is a reference to the instance of the object on which a method is called. It is used to access the attributes and methods of the class within the class definition.\n",
    "\n",
    "    The first argument of any method in a class must be self, which refers to the instance of the object on which the method is called. This allows the method to access and modify the instance's attributes and call other methods on the same instance."
   ]
  },
  {
   "attachments": {},
   "cell_type": "markdown",
   "metadata": {},
   "source": [
    "# Q5. What is inheritance? Give an example for each type of inheritance.\n",
    "\n",
    "    Inheritance is a mechanism in Object-Oriented Programming (OOP) where a child class inherits attributes and behavior from a parent class. This allows the child class to reuse and extend the attributes and behavior of the parent class, avoiding redundant code and promoting code reuse.\n",
    "\n",
    "    There are several types of inheritance in Python:\n",
    "\n",
    "1. Single Inheritance: A single child class inherits from a single parent class. The child class inherits all the attributes and methods of the parent class, and can also add or override attributes and methods."
   ]
  },
  {
   "cell_type": "code",
   "execution_count": 9,
   "metadata": {},
   "outputs": [
    {
     "name": "stdout",
     "output_type": "stream",
     "text": [
      "Developer Omkar is developing something\n",
      "Omkar is walking\n"
     ]
    }
   ],
   "source": [
    "class Person : \n",
    "    def __init__(self, name, age):\n",
    "        self.name = name\n",
    "        self.age = age\n",
    "    \n",
    "    def walk(self):\n",
    "        return f\"{self.name} is walking\"\n",
    "    \n",
    "class Developer(Person):\n",
    "    def Develop(self):\n",
    "        return f\"Developer {self.name} is developing something\"\n",
    "    \n",
    "a = Developer(\"Omkar\", 19)\n",
    "print(a.Develop())\n",
    "print(a.walk())"
   ]
  },
  {
   "attachments": {},
   "cell_type": "markdown",
   "metadata": {},
   "source": [
    "2. Multiple Inheritance: A single child class inherits from multiple parent classes. This type of inheritance allows a class to inherit attributes and methods from multiple parent classes."
   ]
  },
  {
   "cell_type": "code",
   "execution_count": 17,
   "metadata": {},
   "outputs": [
    {
     "name": "stdout",
     "output_type": "stream",
     "text": [
      "Mercedes is running\n",
      "I am a Ai driven machine!\n"
     ]
    }
   ],
   "source": [
    "class vehicle:\n",
    "    def __init__(self, name, Model):\n",
    "        self.name = name\n",
    "\n",
    "    def run(self) :\n",
    "        return f\"{self.name} is running\"\n",
    "\n",
    "class Ai:\n",
    "    def __init__(self):\n",
    "        self.property = \"Automation is in my blood!!\"\n",
    "    \n",
    "    def status(self):\n",
    "        return \"I am a Ai driven machine!\"\n",
    "\n",
    "class car (vehicle, Ai) :\n",
    "    pass\n",
    "\n",
    "a = car(\"Mercedes\", \"M29\")\n",
    "a.name\n",
    "print(a.run())\n",
    "print(a.status())\n",
    "\n",
    "    "
   ]
  },
  {
   "attachments": {},
   "cell_type": "markdown",
   "metadata": {},
   "source": [
    "3. Multi-Level Inheritance: A child class inherits from a parent class, which in turn inherits from a grandparent class. In this type of inheritance, a class can inherit attributes and methods from multiple generations of parent classes.\n"
   ]
  },
  {
   "cell_type": "code",
   "execution_count": 19,
   "metadata": {},
   "outputs": [
    {
     "name": "stdout",
     "output_type": "stream",
     "text": [
      "Name: John Doe, Age: 12\n",
      "Occupation: Student\n",
      "School: XYZ School\n"
     ]
    }
   ],
   "source": [
    "class GrandParent:\n",
    "    def __init__(self, name, age):\n",
    "        self.name = name\n",
    "        self.age = age\n",
    "        \n",
    "    def display_info(self):\n",
    "        print(f\"Name: {self.name}, Age: {self.age}\")\n",
    "        \n",
    "class Parent(GrandParent):\n",
    "    def __init__(self, name, age, occupation):\n",
    "        GrandParent.__init__(self, name, age)\n",
    "        self.occupation = occupation\n",
    "        \n",
    "    def display_info(self):\n",
    "        GrandParent.display_info(self)\n",
    "        print(f\"Occupation: {self.occupation}\")\n",
    "        \n",
    "class Child(Parent):\n",
    "    def __init__(self, name, age, occupation, school):\n",
    "        Parent.__init__(self, name, age, occupation)\n",
    "        self.school = school\n",
    "        \n",
    "    def display_info(self):\n",
    "        Parent.display_info(self)\n",
    "        print(f\"School: {self.school}\")\n",
    "        \n",
    "child = Child(\"John Doe\", 12, \"Student\", \"XYZ School\")\n",
    "child.display_info()"
   ]
  }
 ],
 "metadata": {
  "kernelspec": {
   "display_name": "Python 3",
   "language": "python",
   "name": "python3"
  },
  "language_info": {
   "codemirror_mode": {
    "name": "ipython",
    "version": 3
   },
   "file_extension": ".py",
   "mimetype": "text/x-python",
   "name": "python",
   "nbconvert_exporter": "python",
   "pygments_lexer": "ipython3",
   "version": "3.10.7"
  },
  "orig_nbformat": 4,
  "vscode": {
   "interpreter": {
    "hash": "63963b3f4c440940f0b94a3100916033a226cb4f45979123153792d60aa56d6a"
   }
  }
 },
 "nbformat": 4,
 "nbformat_minor": 2
}
